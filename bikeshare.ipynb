{
 "cells": [
  {
   "cell_type": "code",
   "execution_count": 39,
   "id": "f1b26983",
   "metadata": {},
   "outputs": [
    {
     "name": "stdout",
     "output_type": "stream",
     "text": [
      "Automatic pdb calling has been turned OFF\n"
     ]
    }
   ],
   "source": [
    "%pdb\n",
    "import numpy as np\n",
    "import pandas as pd\n",
    "import ipywidgets as widgets\n",
    "\n"
   ]
  },
  {
   "cell_type": "markdown",
   "id": "5c3302ac",
   "metadata": {},
   "source": [
    "### Which state you want to view"
   ]
  },
  {
   "cell_type": "code",
   "execution_count": 60,
   "id": "35edea87",
   "metadata": {},
   "outputs": [
    {
     "data": {
      "application/vnd.jupyter.widget-view+json": {
       "model_id": "905ba1bef3e744a0ba57bfea0e4c79a7",
       "version_major": 2,
       "version_minor": 0
      },
      "text/plain": [
       "Dropdown(description='States:', options=('Chicago', 'New york city', 'Washington'), value='Chicago')"
      ]
     },
     "metadata": {},
     "output_type": "display_data"
    }
   ],
   "source": [
    "dropdown = widgets.Dropdown(\n",
    "    options=['Chicago', 'New york city', 'Washington'],\n",
    "    value='Chicago',\n",
    "    description='States:'\n",
    ")\n",
    "dropdown"
   ]
  },
  {
   "cell_type": "code",
   "execution_count": 62,
   "id": "e2d37edf",
   "metadata": {},
   "outputs": [
    {
     "data": {
      "text/html": [
       "<div>\n",
       "<style scoped>\n",
       "    .dataframe tbody tr th:only-of-type {\n",
       "        vertical-align: middle;\n",
       "    }\n",
       "\n",
       "    .dataframe tbody tr th {\n",
       "        vertical-align: top;\n",
       "    }\n",
       "\n",
       "    .dataframe thead th {\n",
       "        text-align: right;\n",
       "    }\n",
       "</style>\n",
       "<table border=\"1\" class=\"dataframe\">\n",
       "  <thead>\n",
       "    <tr style=\"text-align: right;\">\n",
       "      <th></th>\n",
       "      <th>Unnamed: 0</th>\n",
       "      <th>Start Time</th>\n",
       "      <th>End Time</th>\n",
       "      <th>Trip Duration</th>\n",
       "      <th>Start Station</th>\n",
       "      <th>End Station</th>\n",
       "      <th>User Type</th>\n",
       "      <th>Gender</th>\n",
       "      <th>Birth Year</th>\n",
       "    </tr>\n",
       "  </thead>\n",
       "  <tbody>\n",
       "    <tr>\n",
       "      <th>0</th>\n",
       "      <td>5688089</td>\n",
       "      <td>2017-06-11 14:55:05</td>\n",
       "      <td>2017-06-11 15:08:21</td>\n",
       "      <td>795</td>\n",
       "      <td>Suffolk St &amp; Stanton St</td>\n",
       "      <td>W Broadway &amp; Spring St</td>\n",
       "      <td>Subscriber</td>\n",
       "      <td>Male</td>\n",
       "      <td>1998.0</td>\n",
       "    </tr>\n",
       "    <tr>\n",
       "      <th>1</th>\n",
       "      <td>4096714</td>\n",
       "      <td>2017-05-11 15:30:11</td>\n",
       "      <td>2017-05-11 15:41:43</td>\n",
       "      <td>692</td>\n",
       "      <td>Lexington Ave &amp; E 63 St</td>\n",
       "      <td>1 Ave &amp; E 78 St</td>\n",
       "      <td>Subscriber</td>\n",
       "      <td>Male</td>\n",
       "      <td>1981.0</td>\n",
       "    </tr>\n",
       "    <tr>\n",
       "      <th>2</th>\n",
       "      <td>2173887</td>\n",
       "      <td>2017-03-29 13:26:26</td>\n",
       "      <td>2017-03-29 13:48:31</td>\n",
       "      <td>1325</td>\n",
       "      <td>1 Pl &amp; Clinton St</td>\n",
       "      <td>Henry St &amp; Degraw St</td>\n",
       "      <td>Subscriber</td>\n",
       "      <td>Male</td>\n",
       "      <td>1987.0</td>\n",
       "    </tr>\n",
       "    <tr>\n",
       "      <th>3</th>\n",
       "      <td>3945638</td>\n",
       "      <td>2017-05-08 19:47:18</td>\n",
       "      <td>2017-05-08 19:59:01</td>\n",
       "      <td>703</td>\n",
       "      <td>Barrow St &amp; Hudson St</td>\n",
       "      <td>W 20 St &amp; 8 Ave</td>\n",
       "      <td>Subscriber</td>\n",
       "      <td>Female</td>\n",
       "      <td>1986.0</td>\n",
       "    </tr>\n",
       "    <tr>\n",
       "      <th>4</th>\n",
       "      <td>6208972</td>\n",
       "      <td>2017-06-21 07:49:16</td>\n",
       "      <td>2017-06-21 07:54:46</td>\n",
       "      <td>329</td>\n",
       "      <td>1 Ave &amp; E 44 St</td>\n",
       "      <td>E 53 St &amp; 3 Ave</td>\n",
       "      <td>Subscriber</td>\n",
       "      <td>Male</td>\n",
       "      <td>1992.0</td>\n",
       "    </tr>\n",
       "    <tr>\n",
       "      <th>...</th>\n",
       "      <td>...</td>\n",
       "      <td>...</td>\n",
       "      <td>...</td>\n",
       "      <td>...</td>\n",
       "      <td>...</td>\n",
       "      <td>...</td>\n",
       "      <td>...</td>\n",
       "      <td>...</td>\n",
       "      <td>...</td>\n",
       "    </tr>\n",
       "    <tr>\n",
       "      <th>299995</th>\n",
       "      <td>3273600</td>\n",
       "      <td>2017-04-24 17:51:12</td>\n",
       "      <td>2017-04-24 17:59:28</td>\n",
       "      <td>495</td>\n",
       "      <td>W 25 St &amp; 6 Ave</td>\n",
       "      <td>W 38 St &amp; 8 Ave</td>\n",
       "      <td>Subscriber</td>\n",
       "      <td>Male</td>\n",
       "      <td>1977.0</td>\n",
       "    </tr>\n",
       "    <tr>\n",
       "      <th>299996</th>\n",
       "      <td>3418509</td>\n",
       "      <td>2017-04-28 12:02:29</td>\n",
       "      <td>2017-04-28 12:19:04</td>\n",
       "      <td>994</td>\n",
       "      <td>W 27 St &amp; 7 Ave</td>\n",
       "      <td>W 52 St &amp; 5 Ave</td>\n",
       "      <td>Subscriber</td>\n",
       "      <td>Male</td>\n",
       "      <td>1967.0</td>\n",
       "    </tr>\n",
       "    <tr>\n",
       "      <th>299997</th>\n",
       "      <td>5034995</td>\n",
       "      <td>2017-05-31 09:11:10</td>\n",
       "      <td>2017-05-31 09:24:16</td>\n",
       "      <td>785</td>\n",
       "      <td>3 Ave &amp; E 72 St</td>\n",
       "      <td>W 44 St &amp; 5 Ave</td>\n",
       "      <td>Subscriber</td>\n",
       "      <td>Male</td>\n",
       "      <td>1972.0</td>\n",
       "    </tr>\n",
       "    <tr>\n",
       "      <th>299998</th>\n",
       "      <td>78227</td>\n",
       "      <td>2017-01-05 08:31:37</td>\n",
       "      <td>2017-01-05 08:51:01</td>\n",
       "      <td>1164</td>\n",
       "      <td>Columbia St &amp; Kane St</td>\n",
       "      <td>Barclay St &amp; Church St</td>\n",
       "      <td>Subscriber</td>\n",
       "      <td>Male</td>\n",
       "      <td>1964.0</td>\n",
       "    </tr>\n",
       "    <tr>\n",
       "      <th>299999</th>\n",
       "      <td>2554332</td>\n",
       "      <td>2017-04-09 17:46:51</td>\n",
       "      <td>2017-04-09 18:06:40</td>\n",
       "      <td>1189</td>\n",
       "      <td>Division St &amp; Bowery</td>\n",
       "      <td>Lafayette St &amp; Jersey St</td>\n",
       "      <td>Subscriber</td>\n",
       "      <td>Female</td>\n",
       "      <td>1985.0</td>\n",
       "    </tr>\n",
       "  </tbody>\n",
       "</table>\n",
       "<p>300000 rows × 9 columns</p>\n",
       "</div>"
      ],
      "text/plain": [
       "        Unnamed: 0           Start Time             End Time  Trip Duration  \\\n",
       "0          5688089  2017-06-11 14:55:05  2017-06-11 15:08:21            795   \n",
       "1          4096714  2017-05-11 15:30:11  2017-05-11 15:41:43            692   \n",
       "2          2173887  2017-03-29 13:26:26  2017-03-29 13:48:31           1325   \n",
       "3          3945638  2017-05-08 19:47:18  2017-05-08 19:59:01            703   \n",
       "4          6208972  2017-06-21 07:49:16  2017-06-21 07:54:46            329   \n",
       "...            ...                  ...                  ...            ...   \n",
       "299995     3273600  2017-04-24 17:51:12  2017-04-24 17:59:28            495   \n",
       "299996     3418509  2017-04-28 12:02:29  2017-04-28 12:19:04            994   \n",
       "299997     5034995  2017-05-31 09:11:10  2017-05-31 09:24:16            785   \n",
       "299998       78227  2017-01-05 08:31:37  2017-01-05 08:51:01           1164   \n",
       "299999     2554332  2017-04-09 17:46:51  2017-04-09 18:06:40           1189   \n",
       "\n",
       "                  Start Station               End Station   User Type  Gender  \\\n",
       "0       Suffolk St & Stanton St    W Broadway & Spring St  Subscriber    Male   \n",
       "1       Lexington Ave & E 63 St           1 Ave & E 78 St  Subscriber    Male   \n",
       "2             1 Pl & Clinton St      Henry St & Degraw St  Subscriber    Male   \n",
       "3         Barrow St & Hudson St           W 20 St & 8 Ave  Subscriber  Female   \n",
       "4               1 Ave & E 44 St           E 53 St & 3 Ave  Subscriber    Male   \n",
       "...                         ...                       ...         ...     ...   \n",
       "299995          W 25 St & 6 Ave           W 38 St & 8 Ave  Subscriber    Male   \n",
       "299996          W 27 St & 7 Ave           W 52 St & 5 Ave  Subscriber    Male   \n",
       "299997          3 Ave & E 72 St           W 44 St & 5 Ave  Subscriber    Male   \n",
       "299998    Columbia St & Kane St    Barclay St & Church St  Subscriber    Male   \n",
       "299999     Division St & Bowery  Lafayette St & Jersey St  Subscriber  Female   \n",
       "\n",
       "        Birth Year  \n",
       "0           1998.0  \n",
       "1           1981.0  \n",
       "2           1987.0  \n",
       "3           1986.0  \n",
       "4           1992.0  \n",
       "...            ...  \n",
       "299995      1977.0  \n",
       "299996      1967.0  \n",
       "299997      1972.0  \n",
       "299998      1964.0  \n",
       "299999      1985.0  \n",
       "\n",
       "[300000 rows x 9 columns]"
      ]
     },
     "execution_count": 62,
     "metadata": {},
     "output_type": "execute_result"
    }
   ],
   "source": [
    "dropdown_value = dropdown.value\n",
    "if dropdown_value == \"Chicago\":    \n",
    "    selected_data_frame = pd.read_csv('chicago.csv')\n",
    "elif dropdown_value == \"New york city\":\n",
    "    selected_data_frame = pd.read_csv('new_york_city.csv')\n",
    "elif dropdown_value == \"Washington\":\n",
    "    selected_data_frame = pd.read_csv('washington.csv') \n",
    "\n",
    "selected_data_frame    \n",
    "    \n"
   ]
  },
  {
   "cell_type": "code",
   "execution_count": 27,
   "id": "0047a130",
   "metadata": {},
   "outputs": [
    {
     "data": {
      "text/plain": [
       "array([[1.423e+01, 1.710e+00, 2.430e+00, ..., 1.040e+00, 3.920e+00,\n",
       "        1.065e+03],\n",
       "       [1.320e+01, 1.780e+00, 2.140e+00, ..., 1.050e+00, 3.400e+00,\n",
       "        1.050e+03],\n",
       "       [1.316e+01, 2.360e+00, 2.670e+00, ..., 1.030e+00, 3.170e+00,\n",
       "        1.185e+03],\n",
       "       ...,\n",
       "       [1.327e+01, 4.280e+00, 2.260e+00, ..., 5.900e-01, 1.560e+00,\n",
       "        8.350e+02],\n",
       "       [1.317e+01, 2.590e+00, 2.370e+00, ..., 6.000e-01, 1.620e+00,\n",
       "        8.400e+02],\n",
       "       [1.413e+01, 4.100e+00, 2.740e+00, ..., 6.100e-01, 1.600e+00,\n",
       "        5.600e+02]])"
      ]
     },
     "execution_count": 27,
     "metadata": {},
     "output_type": "execute_result"
    }
   ],
   "source": [
    "from sklearn.datasets import load_wine\n",
    "\n",
    "wine = load_wine()\n",
    "wine_data=wine.data\n",
    "#alcohol_data=wine_data[: , 0]\n",
    "#wine_data[:, (0, 4)]\n",
    "#alcohol_data=wine.data[:, 0]\n",
    "wine_data"
   ]
  },
  {
   "cell_type": "code",
   "execution_count": 11,
   "id": "f02115d7",
   "metadata": {},
   "outputs": [
    {
     "data": {
      "text/plain": [
       "(178,)"
      ]
     },
     "execution_count": 11,
     "metadata": {},
     "output_type": "execute_result"
    }
   ],
   "source": [
    "alc = wine_data[:, 0]\n",
    "alc.shape"
   ]
  },
  {
   "cell_type": "code",
   "execution_count": 7,
   "id": "50a019f2",
   "metadata": {},
   "outputs": [
    {
     "data": {
      "text/plain": [
       "array([False, False, False, False, False, False, False, False, False,\n",
       "       False, False, False, False, False, False, False, False, False,\n",
       "       False, False, False,  True, False,  True, False, False, False,\n",
       "       False, False, False, False, False, False, False, False, False,\n",
       "       False, False, False, False, False, False, False, False, False,\n",
       "       False, False, False, False, False, False, False, False, False,\n",
       "       False, False, False, False, False,  True,  True,  True, False,\n",
       "        True,  True,  True, False,  True, False,  True,  True, False,\n",
       "       False,  True,  True,  True, False,  True,  True,  True,  True,\n",
       "        True,  True, False,  True,  True,  True,  True,  True,  True,\n",
       "        True,  True,  True,  True,  True,  True,  True,  True,  True,\n",
       "        True,  True,  True,  True,  True,  True,  True,  True,  True,\n",
       "        True,  True,  True,  True,  True,  True,  True,  True,  True,\n",
       "        True,  True,  True,  True,  True,  True, False,  True,  True,\n",
       "        True,  True,  True,  True,  True,  True,  True,  True,  True,\n",
       "        True,  True,  True, False,  True,  True, False, False, False,\n",
       "        True, False, False,  True, False, False, False,  True, False,\n",
       "       False,  True, False, False,  True, False, False,  True, False,\n",
       "        True,  True, False, False, False,  True, False, False,  True,\n",
       "        True, False, False, False, False, False, False])"
      ]
     },
     "execution_count": 7,
     "metadata": {},
     "output_type": "execute_result"
    }
   ],
   "source": [
    "less_alc_bool = alc < 13\n",
    "less_alc_bool"
   ]
  },
  {
   "cell_type": "code",
   "execution_count": 13,
   "id": "0474d32e",
   "metadata": {},
   "outputs": [
    {
     "data": {
      "text/plain": [
       "array([[1.293e+01, 3.800e+00, 2.650e+00, ..., 1.030e+00, 3.520e+00,\n",
       "        7.700e+02],\n",
       "       [1.285e+01, 1.600e+00, 2.520e+00, ..., 1.090e+00, 3.630e+00,\n",
       "        1.015e+03],\n",
       "       [1.237e+01, 9.400e-01, 1.360e+00, ..., 1.050e+00, 1.820e+00,\n",
       "        5.200e+02],\n",
       "       ...,\n",
       "       [1.282e+01, 3.370e+00, 2.300e+00, ..., 7.200e-01, 1.750e+00,\n",
       "        6.850e+02],\n",
       "       [1.220e+01, 3.030e+00, 2.320e+00, ..., 6.600e-01, 1.830e+00,\n",
       "        5.100e+02],\n",
       "       [1.277e+01, 2.390e+00, 2.280e+00, ..., 5.700e-01, 1.630e+00,\n",
       "        4.700e+02]])"
      ]
     },
     "execution_count": 13,
     "metadata": {},
     "output_type": "execute_result"
    }
   ],
   "source": [
    "wine_data[less_alc_bool]"
   ]
  },
  {
   "cell_type": "code",
   "execution_count": null,
   "id": "9e3849a1",
   "metadata": {},
   "outputs": [],
   "source": []
  }
 ],
 "metadata": {
  "kernelspec": {
   "display_name": "Python 3 (ipykernel)",
   "language": "python",
   "name": "python3"
  },
  "language_info": {
   "codemirror_mode": {
    "name": "ipython",
    "version": 3
   },
   "file_extension": ".py",
   "mimetype": "text/x-python",
   "name": "python",
   "nbconvert_exporter": "python",
   "pygments_lexer": "ipython3",
   "version": "3.9.12"
  }
 },
 "nbformat": 4,
 "nbformat_minor": 5
}
