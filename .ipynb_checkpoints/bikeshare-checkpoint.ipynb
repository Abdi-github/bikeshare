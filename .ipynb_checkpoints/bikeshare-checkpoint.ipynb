{
 "cells": [
  {
   "cell_type": "code",
   "execution_count": 1,
   "id": "b69e20b4",
   "metadata": {},
   "outputs": [
    {
     "name": "stdout",
     "output_type": "stream",
     "text": [
      "Automatic pdb calling has been turned ON\n"
     ]
    }
   ],
   "source": [
    "%pdb\n",
    "%matplotlib inline\n",
    "import numpy as np\n",
    "import pandas as pd\n",
    "import ipywidgets as widgets\n",
    "from IPython.display import display, clear_output\n",
    "from ipywidgets import interact, interactive, fixed, interact_manual, HTMLMath, HBox,HTML\n",
    "import matplotlib.pyplot as plt \n",
    "from pandas.api.types import CategoricalDtype\n",
    "\n",
    "\n",
    "\n",
    "\n",
    "\n",
    "\n"
   ]
  },
  {
   "cell_type": "code",
   "execution_count": 2,
   "id": "f1176e2d",
   "metadata": {},
   "outputs": [
    {
     "data": {
      "text/html": [
       "<div align=\"center\" style=\"margin-bottom: 60px\"><h1> Masterschool data analysis pre-course project, July 2022 </h1></div>\n"
      ],
      "text/plain": [
       "<IPython.core.display.HTML object>"
      ]
     },
     "metadata": {},
     "output_type": "display_data"
    }
   ],
   "source": [
    "%%html\n",
    "<div align=\"center\" style=\"margin-bottom: 60px\"><h1> Masterschool data analysis pre-course project, July 2022 </h1></div>\n"
   ]
  },
  {
   "cell_type": "code",
   "execution_count": 3,
   "id": "552905dd",
   "metadata": {},
   "outputs": [
    {
     "data": {
      "text/html": [
       "\n",
       "<div align=\"center\" style=\"margin-bottom: 20px\"><h4> Please select the state you want </h4></div>\n"
      ],
      "text/plain": [
       "<IPython.core.display.HTML object>"
      ]
     },
     "metadata": {},
     "output_type": "display_data"
    }
   ],
   "source": [
    "%%html\n",
    "\n",
    "<div align=\"center\" style=\"margin-bottom: 20px\"><h4> Please select the state you want </h4></div>\n"
   ]
  },
  {
   "cell_type": "code",
   "execution_count": 4,
   "id": "6ead6f94",
   "metadata": {
    "scrolled": true
   },
   "outputs": [
    {
     "data": {
      "application/vnd.jupyter.widget-view+json": {
       "model_id": "c6050941e01347cd8c02bf519b8a2aa9",
       "version_major": 2,
       "version_minor": 0
      },
      "text/plain": [
       "VBox(children=(Dropdown(layout=Layout(height='40px', margin='0 auto', width='450px'), options=('Chicago', 'New…"
      ]
     },
     "metadata": {},
     "output_type": "display_data"
    },
    {
     "data": {
      "image/png": "[encoded data removed]",
      "text/plain": [
       "<Figure size 1008x720 with 1 Axes>"
      ]
     },
     "metadata": {
      "needs_background": "light"
     },
     "output_type": "display_data"
    },
    {
     "data": {
      "image/png": "[encoded data removed]",
      "text/plain": [
       "<Figure size 1008x720 with 1 Axes>"
      ]
     },
     "metadata": {
      "needs_background": "light"
     },
     "output_type": "display_data"
    }
   ],
   "source": [
    "dropdown_layout = {'width':'450px',  'height':'40px' , \"margin\":\"0 auto\" }\n",
    "\n",
    "dropdown = widgets.Dropdown(\n",
    "    options=['Chicago', 'New york city', 'Washington'],\n",
    "    value=None,\n",
    "    placeholder=\"Please Select the states\",\n",
    "    layout=dropdown_layout\n",
    "\n",
    ")\n",
    "\n",
    "\n",
    "\n",
    "output = widgets.Output()\n",
    "#btn = ipywidget.Button(style=dict(font_size=\"18px\"))\n",
    "\n",
    "box = widgets.VBox([dropdown,  output])\n",
    "\n",
    "\n",
    "\n",
    "box\n",
    "\n",
    "\n",
    "     \n",
    "\n",
    "\n",
    "\n",
    "\n",
    "\n",
    "\n",
    "\n"
   ]
  },
  {
   "cell_type": "code",
   "execution_count": 5,
   "id": "3cdb3bed",
   "metadata": {},
   "outputs": [],
   "source": [
    "    \n",
    "def dropdown_change(change):\n",
    "    if change['new']:\n",
    "        with output:\n",
    "            output.clear_output()\n",
    "            #print(\"New\",change['new'])\n",
    "            if change['new'] == 'New york city':\n",
    "                df = pd.read_csv('new_york_city.csv')\n",
    "            elif change['new'] == 'Washington':\n",
    "                df = pd.read_csv('washington.csv') \n",
    "            elif change['new'] == 'Chicago':\n",
    "                df = pd.read_csv('chicago.csv')\n",
    "           \n",
    "            monthly_analysis(df)\n",
    "            daily_analysis(df)\n",
    "            hourly_analysis(df)\n",
    "            \n",
    "            common_start_station(df)\n",
    "            common_end_station(df)\n",
    "            frequent_trip_between(df)\n",
    "            total_travel_time(df)\n",
    "            average_time(df)\n",
    "            user_type_count(df)\n",
    "            if not change['new'] == 'Washington':                \n",
    "                gender_count(df)\n",
    "                earliest_year_of_birth(df)\n",
    "                recent_year_of_birth(df)\n",
    "                common_year_of_birth(df)\n",
    "            \n",
    "            \n",
    "            \n",
    "                \n",
    "    \n",
    "            \n",
    "dropdown.observe(dropdown_change, \"value\")"
   ]
  },
  {
   "cell_type": "code",
   "execution_count": 6,
   "id": "0cc63758",
   "metadata": {},
   "outputs": [],
   "source": [
    "# Popular times of travel"
   ]
  },
  {
   "cell_type": "code",
   "execution_count": 7,
   "id": "8c967d3b",
   "metadata": {},
   "outputs": [],
   "source": [
    "### A- Analysis Based on Months"
   ]
  },
  {
   "cell_type": "code",
   "execution_count": 37,
   "id": "d4d3c22d",
   "metadata": {},
   "outputs": [],
   "source": [
    "\n",
    "def monthly_analysis(df):\n",
    "    \n",
    "    # Change the sting of start time to date time and add new column of months with month name\n",
    "    df['Start Time'] = pd.to_datetime(df['Start Time'])\n",
    "\n",
    "\n",
    "    cat_month = CategoricalDtype([\"January\", \"February\", \"March\", \"April\", \n",
    "        \"May\", \"June\"],\n",
    "        ordered=True)\n",
    " \n",
    "\n",
    "\n",
    "    df['Month'] = df['Start Time'].dt.month_name().astype(cat_month)\n",
    "    mean_values_grouped_by_month = df.groupby('Month').mean()\n",
    "\n",
    "    #Get popular and unpopular months\n",
    "    common_month = mean_values_grouped_by_month.idxmax().values[1]\n",
    "    unpopular_month = mean_values_grouped_by_month.idxmin().values[1]\n",
    "    \n",
    "    question = widgets.HTML('<h3> Question 1: The most common month   </h3>')\n",
    "    \n",
    "    display(question)\n",
    "\n",
    "\n",
    "    # Bar Graph\n",
    "    fig, ax = plt.subplots(figsize=(14,10))\n",
    "    x_ax = mean_values_grouped_by_month.index\n",
    "    y_ax = mean_values_grouped_by_month['Trip Duration'].array\n",
    "\n",
    "    ax.bar(x_ax, y_ax, color = \"green\")\n",
    "    plt.show()\n",
    "    \n",
    "    text_0 = widgets.HTML('<p style=\"font-size: 20px \">The most <span style=\"color: green; font-style: italic\">common</span> month is: <span style=\"color: green; font-style: italic\">{}</span> </p>'.format(common_month))\n",
    "    text_1 = widgets.HTML('<p style=\"font-size: 20px; margin-bottom: 36px\">The most <span style=\"color: green; font-style: italic\">uncommon</span> month is: <span style=\"color: green; font-style: italic\">{}</span> </p>'.format(unpopular_month))\n",
    "\n",
    "    \n",
    "    display(text_0)\n",
    "    display(text_1)\n",
    "\n",
    "\n",
    "    \n",
    "\n",
    "    #print(f\"The Most popular month is {common_month}\")\n",
    "    #print(f\"The Most unpopular month is {unpopular_month}\")\n",
    "    \n",
    "\n",
    "    \n",
    "\n",
    "\n"
   ]
  },
  {
   "cell_type": "code",
   "execution_count": null,
   "id": "9fee12ef",
   "metadata": {},
   "outputs": [],
   "source": []
  },
  {
   "cell_type": "code",
   "execution_count": 9,
   "id": "303c6607",
   "metadata": {},
   "outputs": [],
   "source": [
    "### B- Analysis Based on Day"
   ]
  },
  {
   "cell_type": "code",
   "execution_count": 10,
   "id": "0f4db4b0",
   "metadata": {},
   "outputs": [],
   "source": [
    "#df = pd.read_csv(\"chicago.csv\")\n",
    "\n",
    "def daily_analysis(df):\n",
    "    \n",
    "    # Change the sting of start time to date time and add new column of day with day name\n",
    "    df['Start Time'] = pd.to_datetime(df['Start Time'])\n",
    "\n",
    "\n",
    "    cat_day = CategoricalDtype([\"Monday\", \"Tuesday\", \"Wednesday\", \"Thursday\", \"Friday\", \n",
    "            \"Saturday\", \"Sunday\"],\n",
    "            ordered=True) \n",
    "\n",
    "\n",
    "    df['Day'] = df['Start Time'].dt.day_name().astype(cat_day)\n",
    "    mean_values_grouped_by_day = df.groupby('Day').mean()\n",
    "\n",
    "    #Get popular and unpopular days\n",
    "    common_day = mean_values_grouped_by_day.idxmax().values[1]\n",
    "    unpopular_day = mean_values_grouped_by_day.idxmin().values[1]\n",
    "    \n",
    "    question = widgets.HTML('<h3> Question 1: The most common day of week   </h3>')\n",
    "    \n",
    "    display(question)\n",
    "\n",
    "\n",
    "    # Bar Graph\n",
    "    fig, ax = plt.subplots(figsize=(14,10))\n",
    "    x_ax = mean_values_grouped_by_day.index\n",
    "    y_ax = mean_values_grouped_by_day['Trip Duration'].array\n",
    "    ax.bar(x_ax, y_ax, color = \"green\")\n",
    "    plt.show()\n",
    "    \n",
    "    text_0 = widgets.HTML('<p style=\"font-size: 20px \">The most <span style=\"color: green; font-style: italic\">common</span> day of the week is: <span style=\"color: green; font-style: italic\">{}</span> </p>'.format(common_day))\n",
    "    text_1 = widgets.HTML('<p style=\"font-size: 20px; margin-bottom: 36px\">The most <span style=\"color: green; font-style: italic\">uncommon</span> day of the week is: <span style=\"color: green; font-style: italic\">{}</span> </p>'.format(unpopular_day))\n",
    "\n",
    "    \n",
    "    display(text_0)\n",
    "    display(text_1)\n",
    "\n",
    "\n",
    "\n",
    "    #print(f\"The Most popular day is {common_day}\")\n",
    "    #print(f\"The Most unpopular day is {unpopular_day}\")\n",
    "\n",
    "\n",
    "\n"
   ]
  },
  {
   "cell_type": "code",
   "execution_count": 11,
   "id": "ac044a3d",
   "metadata": {},
   "outputs": [],
   "source": [
    "### C- Analysis Based on Hours"
   ]
  },
  {
   "cell_type": "code",
   "execution_count": 12,
   "id": "5ebbd85c",
   "metadata": {},
   "outputs": [],
   "source": [
    "#df = pd.read_csv(\"chicago.csv\")\n",
    "def hourly_analysis(df):\n",
    "    \n",
    "    # Change the sting of start time to date time and add new column of hour \n",
    "    df['Start Time'] = pd.to_datetime(df['Start Time'])\n",
    "\n",
    "\n",
    "\n",
    "\n",
    "    df['Hour'] = df['Start Time'].dt.hour\n",
    "    mean_values_grouped_by_hour = df.groupby('Hour').mean()\n",
    "\n",
    "    #Get popular and unpopular hours\n",
    "    common_hour = mean_values_grouped_by_hour.idxmax().values[1]\n",
    "    unpopular_hour = mean_values_grouped_by_hour.idxmin().values[1]\n",
    "    \n",
    "    question = widgets.HTML('<h3> Question 1: The most common trip from start to end  </h3>')\n",
    "    \n",
    "    display(question)\n",
    "\n",
    "\n",
    "    # Bar Graph\n",
    "    fig, ax = plt.subplots(figsize=(14,10))\n",
    "    x_ax = mean_values_grouped_by_hour.index\n",
    "    y_ax = mean_values_grouped_by_hour['Trip Duration'].array\n",
    "    ax.bar(x_ax, y_ax, color = \"green\")\n",
    "    plt.show()\n",
    "    \n",
    "    text_0 = widgets.HTML('<p style=\"font-size: 20px \">The most <span style=\"color: green; font-style: italic\">common</span> hour is: <span style=\"color: green; font-style: italic\">{}:00</span> </p>'.format(common_hour))\n",
    "    text_1 = widgets.HTML('<p style=\"font-size: 20px; margin-bottom: 36px\">The most <span style=\"color: green; font-style: italic\">uncommon</span> hour is: <span style=\"color: green; font-style: italic\">{}:00</span> </p>'.format(unpopular_hour))\n",
    "\n",
    "    \n",
    "    display(text_0)\n",
    "    display(text_1)\n",
    "\n",
    "\n",
    "\n",
    "    #print(f\"The Most popular hour is {common_hour}:00\")\n",
    "    #print(f\"The Most unpopular hour is {unpopular_hour}:00\")\n"
   ]
  },
  {
   "cell_type": "code",
   "execution_count": 13,
   "id": "3aa0e9c5",
   "metadata": {},
   "outputs": [],
   "source": [
    "# 2 Popular stations and trip"
   ]
  },
  {
   "cell_type": "code",
   "execution_count": 14,
   "id": "c3d13f3d",
   "metadata": {},
   "outputs": [],
   "source": [
    "## A- Most common start station"
   ]
  },
  {
   "cell_type": "code",
   "execution_count": 15,
   "id": "0709b03b",
   "metadata": {},
   "outputs": [],
   "source": [
    "#df = pd.read_csv(\"chicago.csv\")\n",
    "def common_start_station(df):    \n",
    "    common_start_station_name = df['Start Station'].value_counts().idxmax()\n",
    "    common_start_station_count =df['Start Station'].value_counts().max()\n",
    "    \n",
    "    question = widgets.HTML('<h3> Question 2: The most common start station  </h3>')\n",
    "    \n",
    "    display(question)\n",
    "    \n",
    "    text_0 = widgets.HTML('<p style=\"font-size: 20px \">The most common starting station is  <span style=\"color: green; font-style: italic\">{}</span> with count of <span style=\"color: green; font-style: italic\">{}</span>  </p>'.format(common_start_station_name, common_start_station_count))\n",
    "    display(text_0)\n",
    "    \n",
    "    #print(f\"The most common starting station is {common_start_station_name} with count of {common_start_station_count}\")"
   ]
  },
  {
   "cell_type": "code",
   "execution_count": 16,
   "id": "44e1b47f",
   "metadata": {},
   "outputs": [],
   "source": [
    "## B- Most common end station"
   ]
  },
  {
   "cell_type": "code",
   "execution_count": 17,
   "id": "c4b407c3",
   "metadata": {},
   "outputs": [],
   "source": [
    "def common_end_station(df):    \n",
    "    common_end_station_name = df['End Station'].value_counts().idxmax()\n",
    "    common_end_station_count =df['End Station'].value_counts().max()\n",
    "    question = widgets.HTML('<h3> Question 2: The most common End station  </h3>')\n",
    "    \n",
    "    display(question)\n",
    "    \n",
    "    text_0 = widgets.HTML('<p style=\"font-size: 20px \">The most common Ending station is  <span style=\"color: green; font-style: italic\">{}</span> with count of <span style=\"color: green; font-style: italic\">{}</span>  </p>'.format(common_end_station_name, common_end_station_count))\n",
    "    display(text_0)\n",
    "    #print(f\"The most common ending station is {common_end_station_name} with count of {common_end_station_count}\")"
   ]
  },
  {
   "cell_type": "code",
   "execution_count": 18,
   "id": "b86d6a4a",
   "metadata": {},
   "outputs": [],
   "source": [
    "## C- Most common trip from start to end"
   ]
  },
  {
   "cell_type": "code",
   "execution_count": 19,
   "id": "af6aa103",
   "metadata": {},
   "outputs": [],
   "source": [
    "#df = pd.read_csv(\"chicago.csv\")\n",
    "def frequent_trip_between(df):\n",
    "    \n",
    "    common_trip_combined = df.groupby(['Start Station','End Station']).size().idxmax()\n",
    "    common_trip_first_place = common_trip_combined[0]\n",
    "    common_trip_second_place = common_trip_combined[1]\n",
    "    \n",
    "    question = widgets.HTML('<h3> Question 2: The most common trip from start to end  </h3>')\n",
    "    \n",
    "    display(question)\n",
    "    \n",
    "    text_0 = widgets.HTML('<p style=\"font-size: 20px \">The most frequent trip is between <span style=\"color: green; font-style: italic\">{a}</span> and <span style=\"color: green; font-style: italic\">{b}</span>  </p>'.format(a=common_trip_first_place, b=common_trip_second_place))\n",
    "    display(text_0)\n",
    "    \n",
    "    \n",
    "\n",
    "    #print(f\"The most frequent trip is between {common_trip_first_place} and {common_trip_second_place} \")\n",
    "\n",
    "\n",
    "\n"
   ]
  },
  {
   "cell_type": "code",
   "execution_count": 20,
   "id": "a8ac3318",
   "metadata": {},
   "outputs": [],
   "source": [
    "# 3 Trip duration"
   ]
  },
  {
   "cell_type": "code",
   "execution_count": 21,
   "id": "ce226187",
   "metadata": {},
   "outputs": [],
   "source": [
    "## A- Total travel time"
   ]
  },
  {
   "cell_type": "code",
   "execution_count": 22,
   "id": "00f437bc",
   "metadata": {},
   "outputs": [],
   "source": [
    "#df = pd.read_csv(\"chicago.csv\")\n",
    "def total_travel_time(df):\n",
    "    total_time_sec = df['Trip Duration'].sum()\n",
    "    \n",
    "    question = widgets.HTML('<h3> Question 3: The total travel time  </h3>')    \n",
    "    display(question)\n",
    "    \n",
    "    text_0 = widgets.HTML('<p style=\"font-size: 20px \">The total travel time in seconds is <span style=\"color: green; font-style: italic\">{}</span></p>'.format(total_time_sec))\n",
    "    display(text_0)\n",
    "    \n",
    "    #print(f\"The total travel time in seconds is {total_time_sec}\")"
   ]
  },
  {
   "cell_type": "code",
   "execution_count": 23,
   "id": "05df0380",
   "metadata": {},
   "outputs": [],
   "source": [
    "def average_time(df):\n",
    "    average_travel_time_sec = df['Trip Duration'].mean()\n",
    "    question = widgets.HTML('<h3> Question 3: The average travel time  </h3>')    \n",
    "    display(question)\n",
    "    \n",
    "    text_0 = widgets.HTML('<p style=\"font-size: 20px \">The average travel time in seconds is <span style=\"color: green; font-style: italic\">{}</span></p>'.format(average_travel_time_sec))\n",
    "    display(text_0)\n",
    "    #print(f\"The average travel time in seconds is {average_travel_time_sec}\")"
   ]
  },
  {
   "cell_type": "code",
   "execution_count": 24,
   "id": "2e6244fe",
   "metadata": {},
   "outputs": [],
   "source": [
    "# 4 User info"
   ]
  },
  {
   "cell_type": "code",
   "execution_count": 25,
   "id": "d6915ee9",
   "metadata": {},
   "outputs": [],
   "source": [
    "## A- Counts of each user type"
   ]
  },
  {
   "cell_type": "code",
   "execution_count": 26,
   "id": "6b1a7dbf",
   "metadata": {},
   "outputs": [],
   "source": [
    "#df = pd.read_csv('washington.csv')\n",
    "def user_type_count(df):\n",
    "    df2 = df.groupby(['User Type']).size().reset_index(name='count').to_numpy()\n",
    "    \n",
    "    question = widgets.HTML('<h3> Question 4: Counts of each user type  </h3>')    \n",
    "    display(question)\n",
    "    \n",
    "    for k, v in df2:\n",
    "        text_0 = widgets.HTML('<p style=\"font-size: 20px \">The total number of <span style=\"color: green; font-style: italic\">{}</span> user type is <span style=\"color: green; font-style: italic\">{}</span> </p>'.format(k, v))\n",
    "        display(text_0)\n",
    "        \n",
    "        #print(f\"The total number of {k} user type is {v}\")\n",
    " \n"
   ]
  },
  {
   "cell_type": "code",
   "execution_count": 27,
   "id": "387378e9",
   "metadata": {},
   "outputs": [],
   "source": [
    "## B- Counts of gender"
   ]
  },
  {
   "cell_type": "code",
   "execution_count": 28,
   "id": "c7fa8106",
   "metadata": {},
   "outputs": [],
   "source": [
    "#df = pd.read_csv('new_york_city.csv')\n",
    "def gender_count(df):\n",
    "    df2 = df.groupby(['Gender']).size().reset_index(name='count')\n",
    "\n",
    "    df3=df2.set_index(\"Gender\")\n",
    "    female_count = df3.loc['Female', \"count\"]\n",
    "    male_count = df3.loc['Male', \"count\"]\n",
    "    \n",
    "    question = widgets.HTML('<h3> Question 4: Counts of each gender (only available for NYC and Chicago)  </h3>')    \n",
    "    display(question)\n",
    "    \n",
    "    text_0 = widgets.HTML('<p style=\"font-size: 20px \">The number of females is <span style=\"color: green; font-style: italic\">{}</span> and the number of male is <span style=\"color: green; font-style: italic\">{}</span> </p>'.format(female_count, male_count))\n",
    "    display(text_0)\n",
    "\n",
    "    #print(f\"The number of females is {female_count} and the number of male is {male_count}\")"
   ]
  },
  {
   "cell_type": "code",
   "execution_count": 29,
   "id": "78275ff1",
   "metadata": {},
   "outputs": [],
   "source": [
    "## C- Earliest year of birth"
   ]
  },
  {
   "cell_type": "code",
   "execution_count": 30,
   "id": "c734d4c5",
   "metadata": {},
   "outputs": [],
   "source": [
    "#df = pd.read_csv('new_york_city.csv')\n",
    "def earliest_year_of_birth(df):\n",
    "    year = int(df['Birth Year'].min())\n",
    "    \n",
    "    question = widgets.HTML('<h3> Question 4: Earliest year of birth  </h3>')    \n",
    "    display(question)\n",
    "    \n",
    "    text_0 = widgets.HTML('<p style=\"font-size: 20px \">The earliest year of birth is <span style=\"color: green; font-style: italic\">{}</span> </p>'.format(year))\n",
    "    display(text_0)\n",
    "    #print(f\"Earliest year of birth is {year}\")"
   ]
  },
  {
   "cell_type": "code",
   "execution_count": 31,
   "id": "01c8f39f",
   "metadata": {},
   "outputs": [],
   "source": [
    "## D- Most recent year of birth"
   ]
  },
  {
   "cell_type": "code",
   "execution_count": 32,
   "id": "2c1ea035",
   "metadata": {},
   "outputs": [],
   "source": [
    "def recent_year_of_birth(df):\n",
    "    year = int(df['Birth Year'].max())\n",
    "    \n",
    "    question = widgets.HTML('<h3> Question 4: Most recent year of birth  </h3>')    \n",
    "    display(question)\n",
    "    \n",
    "    text_0 = widgets.HTML('<p style=\"font-size: 20px \">The most recent year of birth is <span style=\"color: green; font-style: italic\">{}</span> </p>'.format(year))\n",
    "    display(text_0)\n",
    "    #print(f\"The most recent year of birth is {year}\")"
   ]
  },
  {
   "cell_type": "code",
   "execution_count": 33,
   "id": "16767bd5",
   "metadata": {},
   "outputs": [],
   "source": [
    "## E- Most common year of birth"
   ]
  },
  {
   "cell_type": "code",
   "execution_count": 34,
   "id": "31ac4802",
   "metadata": {},
   "outputs": [],
   "source": [
    "#df = pd.read_csv('new_york_city.csv')\n",
    "def common_year_of_birth(df):\n",
    "    year = int(df['Birth Year'].value_counts().idxmax())\n",
    "    \n",
    "    question = widgets.HTML('<h3> Question 4: Most common year of birth  </h3>')    \n",
    "    display(question)\n",
    "    \n",
    "    text_0 = widgets.HTML('<p style=\"font-size: 20px \">The most common year of birth is <span style=\"color: green; font-style: italic\">{}</span> </p>'.format(year))\n",
    "    display(text_0)\n",
    "    \n",
    "    #print(f\"The most common year of birth is {year}\")"
   ]
  },
  {
   "cell_type": "code",
   "execution_count": null,
   "id": "044b3134",
   "metadata": {},
   "outputs": [],
   "source": []
  }
 ],
 "metadata": {
  "kernelspec": {
   "display_name": "Python 3 (ipykernel)",
   "language": "python",
   "name": "python3"
  },
  "language_info": {
   "codemirror_mode": {
    "name": "ipython",
    "version": 3
   },
   "file_extension": ".py",
   "mimetype": "text/x-python",
   "name": "python",
   "nbconvert_exporter": "python",
   "pygments_lexer": "ipython3",
   "version": "3.9.12"
  }
 },
 "nbformat": 4,
 "nbformat_minor": 5
}
